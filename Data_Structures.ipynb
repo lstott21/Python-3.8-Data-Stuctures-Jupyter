{
 "cells": [
  {
   "cell_type": "markdown",
   "id": "b5520e26",
   "metadata": {},
   "source": [
    "# Python Data Structures \n",
    "Strings, Lists, Tuples, Sets, Dictionaries <br>\n",
    "Python 3.8.8 <br>\n",
    "(c) 2022 Lucas Stott"
   ]
  },
  {
   "cell_type": "markdown",
   "id": "be786ea8",
   "metadata": {},
   "source": [
    "---"
   ]
  },
  {
   "cell_type": "markdown",
   "id": "f95a4298",
   "metadata": {},
   "source": [
    "## Sequences: String, List, Tuple"
   ]
  },
  {
   "cell_type": "markdown",
   "id": "755acaca",
   "metadata": {},
   "source": [
    "<b>Definitions:</b>\n",
    "- <b>mutable:</b> liable to change"
   ]
  },
  {
   "cell_type": "markdown",
   "id": "e168d96e",
   "metadata": {},
   "source": [
    "<b>indexing</b> - access any item in the sequence using its index. <br>\n",
    "Indexing starts with 0 for the first element."
   ]
  },
  {
   "cell_type": "code",
   "execution_count": 297,
   "id": "b995b63b",
   "metadata": {},
   "outputs": [
    {
     "name": "stdout",
     "output_type": "stream",
     "text": [
      "g\n",
      "cow\n",
      "Kevin\n"
     ]
    }
   ],
   "source": [
    "# string - sequence of Unicode characters. UTF-8 8-bit values\n",
    "x = 'frog'\n",
    "print (x[3])\n",
    "\n",
    "# list - mutable object\n",
    "x = ['pig', 'cow', 'horse']\n",
    "print (x[1])\n",
    "\n",
    "# tuple - immutable object\n",
    "x = ('Kevin', 'Niklas', 'Jenny', 'Craig')\n",
    "print (x[0])"
   ]
  },
  {
   "cell_type": "markdown",
   "id": "4fbae9dd",
   "metadata": {},
   "source": [
    "<b>slicing</b> - slice out substrings, sublists, subtuples using indexes. <br>\n",
    "[start : end+1 : step]"
   ]
  },
  {
   "cell_type": "code",
   "execution_count": 298,
   "id": "c083fe53",
   "metadata": {},
   "outputs": [
    {
     "name": "stdout",
     "output_type": "stream",
     "text": [
      "omp\n",
      "opt\n",
      "puter\n",
      "compu\n",
      "r\n",
      "ter\n",
      "comput\n"
     ]
    }
   ],
   "source": [
    "x = 'computer'\n",
    "print(x[1:4])\n",
    "print(x[1:6:2])\n",
    "print(x[3:])\n",
    "print(x[:5])\n",
    "print(x[-1])\n",
    "print(x[-3:])\n",
    "print(x[:-2])"
   ]
  },
  {
   "cell_type": "markdown",
   "id": "82a8f592",
   "metadata": {},
   "source": [
    "<b>adding / concatenating</b> - combine 2 sequences of the same type by using +"
   ]
  },
  {
   "cell_type": "code",
   "execution_count": 299,
   "id": "d6f660c0",
   "metadata": {},
   "outputs": [
    {
     "name": "stdout",
     "output_type": "stream",
     "text": [
      "horseshoe\n",
      "['pig', 'cow', 'horse']\n",
      "('Kevin', 'Niklas', 'Jenny', 'Craig')\n"
     ]
    }
   ],
   "source": [
    "# string\n",
    "x = 'horse' + 'shoe'\n",
    "print(x)\n",
    "\n",
    "# list\n",
    "y = ['pig', 'cow'] + ['horse']\n",
    "print(y)\n",
    "\n",
    "# tuple\n",
    "z = ('Kevin', 'Niklas', 'Jenny') + ('Craig',)\n",
    "print(z)"
   ]
  },
  {
   "cell_type": "markdown",
   "id": "a855de84",
   "metadata": {},
   "source": [
    "<b>multiplying</b> - mulitply a sequence using *."
   ]
  },
  {
   "cell_type": "code",
   "execution_count": 300,
   "id": "67880fc1",
   "metadata": {},
   "outputs": [
    {
     "name": "stdout",
     "output_type": "stream",
     "text": [
      "bugbugbug\n",
      "[8, 5, 8, 5, 8, 5]\n",
      "(2, 4, 2, 4, 2, 4)\n"
     ]
    }
   ],
   "source": [
    "# string\n",
    "x = 'bug' * 3\n",
    "print(x)\n",
    "\n",
    "# list\n",
    "y = [8, 5] * 3\n",
    "print(y)\n",
    "\n",
    "# tuple\n",
    "z = (2, 4) * 3\n",
    "print(z)"
   ]
  },
  {
   "cell_type": "markdown",
   "id": "20f8731a",
   "metadata": {},
   "source": [
    "<b>checking membership</b> - test whether an item is or is not in a sequence."
   ]
  },
  {
   "cell_type": "code",
   "execution_count": 301,
   "id": "e84eaf32",
   "metadata": {},
   "outputs": [
    {
     "name": "stdout",
     "output_type": "stream",
     "text": [
      "True\n",
      "False\n",
      "True\n"
     ]
    }
   ],
   "source": [
    "# string\n",
    "x = 'bug'\n",
    "print('u' in x)\n",
    "\n",
    "# list\n",
    "y = ['pig', 'cow', 'horse']\n",
    "print('cow' not in y)\n",
    "\n",
    "# tuple\n",
    "z = ('Kevin', 'Niklas', 'Jenny', 'Craig')\n",
    "print('Niklas' in z)"
   ]
  },
  {
   "cell_type": "markdown",
   "id": "96e5e888",
   "metadata": {},
   "source": [
    "<b>iterating</b> - iterating through the items in a sequence."
   ]
  },
  {
   "cell_type": "code",
   "execution_count": 302,
   "id": "27261a44",
   "metadata": {},
   "outputs": [
    {
     "name": "stdout",
     "output_type": "stream",
     "text": [
      "7\n",
      "8\n",
      "3\n",
      "0 7\n",
      "1 8\n",
      "2 3\n"
     ]
    }
   ],
   "source": [
    "# item\n",
    "x = [7, 8, 3]\n",
    "for item in x:\n",
    "    print(item)\n",
    "    \n",
    "# index & item\n",
    "y = [7, 8, 3]\n",
    "for index, item in enumerate(y):\n",
    "    print(index, item)"
   ]
  },
  {
   "cell_type": "markdown",
   "id": "a201f812",
   "metadata": {},
   "source": [
    "<b>number of items</b> - count the number of items in a sequence."
   ]
  },
  {
   "cell_type": "code",
   "execution_count": 303,
   "id": "0329b62e",
   "metadata": {},
   "outputs": [
    {
     "name": "stdout",
     "output_type": "stream",
     "text": [
      "3\n",
      "3\n",
      "4\n"
     ]
    }
   ],
   "source": [
    "# string\n",
    "x = 'bug'\n",
    "print(len(x))\n",
    "\n",
    "# list\n",
    "y = ['pig', 'cow', 'horse']\n",
    "print(len(y))\n",
    "\n",
    "# tuple\n",
    "z = ('Kevin', 'Niklas', 'Jenny', 'Craig')\n",
    "print(len(z))"
   ]
  },
  {
   "cell_type": "markdown",
   "id": "dedad934",
   "metadata": {},
   "source": [
    "<b>minimum</b> - find the minimum item in a sequence lexicographically. <br>\n",
    "Alpha or numeric types, but cannot mix types. "
   ]
  },
  {
   "cell_type": "code",
   "execution_count": 304,
   "id": "fa8cae55",
   "metadata": {},
   "outputs": [
    {
     "name": "stdout",
     "output_type": "stream",
     "text": [
      "b\n",
      "cow\n",
      "Craig\n"
     ]
    }
   ],
   "source": [
    "# string\n",
    "x = 'bug'\n",
    "print(min(x))\n",
    "\n",
    "# list\n",
    "y = ['pig', 'cow', 'horse']\n",
    "print(min(y))\n",
    "\n",
    "# tuple\n",
    "z = ('Kevin', 'Niklas', 'Jenny', 'Craig')\n",
    "print(min(z))"
   ]
  },
  {
   "cell_type": "markdown",
   "id": "c7f30237",
   "metadata": {},
   "source": [
    "<b>maximum</b> - find the maximum item in a sequence lexicographically. <br>\n",
    "Alpha or number types, but cannot mix types. "
   ]
  },
  {
   "cell_type": "code",
   "execution_count": 305,
   "id": "b23638fa",
   "metadata": {},
   "outputs": [
    {
     "name": "stdout",
     "output_type": "stream",
     "text": [
      "u\n",
      "pig\n",
      "Niklas\n"
     ]
    }
   ],
   "source": [
    "# string\n",
    "x = 'bug'\n",
    "print(max(x))\n",
    "\n",
    "# list\n",
    "y = ['pig', 'cow', 'horse']\n",
    "print(max(y))\n",
    "\n",
    "# tuple\n",
    "z = ('Kevin', 'Niklas', 'Jenny', 'Craig')\n",
    "print(max(z))"
   ]
  },
  {
   "cell_type": "markdown",
   "id": "9fc9732d",
   "metadata": {},
   "source": [
    "<b>sum</b> - find the sum of items in a sequence. <br>\n",
    "Entire sequence must be numeric."
   ]
  },
  {
   "cell_type": "code",
   "execution_count": 306,
   "id": "68307e3a",
   "metadata": {},
   "outputs": [
    {
     "name": "stdout",
     "output_type": "stream",
     "text": [
      "27\n",
      "20\n",
      "80\n"
     ]
    }
   ],
   "source": [
    "# string -> error\n",
    "# x = [5, 7, 'bug']\n",
    "# print(sum(x))   # generates an error\n",
    "\n",
    "# list\n",
    "y = [2, 5, 8, 12]\n",
    "print(sum(y))\n",
    "print(sum(y[-2:]))\n",
    "\n",
    "# tuple\n",
    "z = (50, 4, 7, 19)\n",
    "print(sum(z))"
   ]
  },
  {
   "cell_type": "markdown",
   "id": "6b1824d1",
   "metadata": {},
   "source": [
    "<b>sorting</b> - returns a new list of items in sorted order.<br>\n",
    "Does not change the orginal list."
   ]
  },
  {
   "cell_type": "code",
   "execution_count": 307,
   "id": "d2621eb5",
   "metadata": {},
   "outputs": [
    {
     "name": "stdout",
     "output_type": "stream",
     "text": [
      "['b', 'g', 'u']\n",
      "['cow', 'horse', 'pig']\n",
      "['Craig', 'Jenny', 'Kevin', 'Niklas']\n"
     ]
    }
   ],
   "source": [
    "# string\n",
    "x = 'bug'\n",
    "print(sorted(x))\n",
    "\n",
    "# list\n",
    "y = ['pig', 'cow', 'horse']\n",
    "print(sorted(y))\n",
    "\n",
    "# tuple\n",
    "z = ('Kevin', 'Niklas', 'Jenny', 'Craig')\n",
    "print(sorted(z))"
   ]
  },
  {
   "cell_type": "markdown",
   "id": "72e17182",
   "metadata": {},
   "source": [
    "<b>sorting</b> - sort by second letter. <br>\n",
    "Add a key parameter and a lambda function to return the second character. <br>\n",
    "(the word *key* here is a defined paramter name, *k* is an arbitrary variable name)."
   ]
  },
  {
   "cell_type": "code",
   "execution_count": 308,
   "id": "223461e9",
   "metadata": {},
   "outputs": [
    {
     "name": "stdout",
     "output_type": "stream",
     "text": [
      "['Kevin', 'Jenny', 'Niklas', 'Craig']\n"
     ]
    }
   ],
   "source": [
    "z = ('Kevin', 'Niklas', 'Jenny', 'Craig')\n",
    "print(sorted(z, key=lambda k: k[1]))"
   ]
  },
  {
   "cell_type": "markdown",
   "id": "0068b811",
   "metadata": {},
   "source": [
    "<b>count(item></b> - returns count of an item."
   ]
  },
  {
   "cell_type": "code",
   "execution_count": 309,
   "id": "43a74db8",
   "metadata": {},
   "outputs": [
    {
     "name": "stdout",
     "output_type": "stream",
     "text": [
      "2\n",
      "2\n",
      "1\n"
     ]
    }
   ],
   "source": [
    "# string\n",
    "x = 'hippo'\n",
    "print(x.count('p'))\n",
    "\n",
    "# list\n",
    "y = ['pig', 'cow', 'horse', 'cow']\n",
    "print(y.count('cow'))\n",
    "\n",
    "# tuple\n",
    "z = ('Kevin', 'Niklas', 'Jenny', 'Craig')\n",
    "print(z.count('Kevin'))"
   ]
  },
  {
   "cell_type": "markdown",
   "id": "7b67d89a",
   "metadata": {},
   "source": [
    "<b>index(item)</b> - returns the index of the first occurence of an item."
   ]
  },
  {
   "cell_type": "code",
   "execution_count": 310,
   "id": "98b229f9",
   "metadata": {},
   "outputs": [
    {
     "name": "stdout",
     "output_type": "stream",
     "text": [
      "2\n",
      "1\n",
      "0\n"
     ]
    }
   ],
   "source": [
    "# string\n",
    "x = 'hippo'\n",
    "print(x.index('p'))\n",
    "\n",
    "# list\n",
    "y = ['pig', 'cow', 'horse', 'cow']\n",
    "print(y.index('cow'))\n",
    "\n",
    "# tuple\n",
    "z = ('Kevin', 'Niklas', 'Jenny', 'Craig')\n",
    "print(z.index('Kevin'))"
   ]
  },
  {
   "cell_type": "markdown",
   "id": "972d7a44",
   "metadata": {},
   "source": [
    "<b>unpacking</b> - unpack the n items of a sequence into n variables."
   ]
  },
  {
   "cell_type": "code",
   "execution_count": 311,
   "id": "135f7053",
   "metadata": {},
   "outputs": [
    {
     "name": "stdout",
     "output_type": "stream",
     "text": [
      "pig cow horse\n"
     ]
    }
   ],
   "source": [
    "x = ['pig', 'cow', 'horse']\n",
    "a, b, c = x\n",
    "print(a, b, c)"
   ]
  },
  {
   "cell_type": "markdown",
   "id": "94f830f2",
   "metadata": {},
   "source": [
    "## Lists\n",
    "---\n",
    "- General purpose\n",
    "- Most widely used data structure\n",
    "- Grow and shrink size as needed\n",
    "- Sequence type\n",
    "- Sortable"
   ]
  },
  {
   "cell_type": "markdown",
   "id": "128076bb",
   "metadata": {},
   "source": [
    "<b>constructors</b> - creating a new list"
   ]
  },
  {
   "cell_type": "code",
   "execution_count": 312,
   "id": "34bf3cd3",
   "metadata": {},
   "outputs": [
    {
     "name": "stdout",
     "output_type": "stream",
     "text": [
      "[0, 1, 2, 3, 4, 5, 6, 7]\n",
      "[25, 36, 49, 64, 81]\n"
     ]
    }
   ],
   "source": [
    "x = list()\n",
    "y = ['a', 25, 'dog', 8.43]\n",
    "tuple1 = (10, 20)\n",
    "z = list(tuple1)\n",
    "\n",
    "# list comprehension\n",
    "a = [m for m in range(8)]\n",
    "print(a)\n",
    "b = [i**2 for i in range(10) if i>4]\n",
    "print(b)"
   ]
  },
  {
   "cell_type": "markdown",
   "id": "5c5e11d6",
   "metadata": {},
   "source": [
    "<b>delete</b> - delete a list or an item in a list."
   ]
  },
  {
   "cell_type": "code",
   "execution_count": 313,
   "id": "d943ca68",
   "metadata": {},
   "outputs": [
    {
     "name": "stdout",
     "output_type": "stream",
     "text": [
      "[5, 8, 6]\n"
     ]
    }
   ],
   "source": [
    "x = [5, 3, 8, 6]\n",
    "del(x[1])\n",
    "print(x)\n",
    "del(x)      # list x no longer exists"
   ]
  },
  {
   "cell_type": "markdown",
   "id": "ec177fe0",
   "metadata": {},
   "source": [
    "<b>append</b> - append an item to a list."
   ]
  },
  {
   "cell_type": "code",
   "execution_count": 314,
   "id": "e811b1ef",
   "metadata": {},
   "outputs": [
    {
     "name": "stdout",
     "output_type": "stream",
     "text": [
      "[5, 3, 8, 6, 7]\n"
     ]
    }
   ],
   "source": [
    "x = [5, 3, 8, 6]\n",
    "x.append(7)\n",
    "print(x)"
   ]
  },
  {
   "cell_type": "markdown",
   "id": "d87c7644",
   "metadata": {},
   "source": [
    "<b>extend</b> - append a sequence to a list."
   ]
  },
  {
   "cell_type": "code",
   "execution_count": 315,
   "id": "54c95ffb",
   "metadata": {},
   "outputs": [
    {
     "name": "stdout",
     "output_type": "stream",
     "text": [
      "[5, 3, 8, 6, 12, 13]\n"
     ]
    }
   ],
   "source": [
    "x = [5, 3, 8, 6]\n",
    "y = [12, 13]\n",
    "x.extend(y)\n",
    "print(x)"
   ]
  },
  {
   "cell_type": "markdown",
   "id": "1043266d",
   "metadata": {},
   "source": [
    "<b>insert</b> - insert an item at a given index."
   ]
  },
  {
   "cell_type": "code",
   "execution_count": 316,
   "id": "f8a7bc48",
   "metadata": {},
   "outputs": [
    {
     "name": "stdout",
     "output_type": "stream",
     "text": [
      "[5, 7, 3, 8, 6]\n",
      "[5, ['a', 'm'], 7, 3, 8, 6]\n"
     ]
    }
   ],
   "source": [
    "x = [5, 3, 8, 6]\n",
    "x.insert(1, 7)\n",
    "print(x)\n",
    "x.insert(1, ['a', 'm'])\n",
    "print(x)"
   ]
  },
  {
   "cell_type": "markdown",
   "id": "2d244151",
   "metadata": {},
   "source": [
    "<b>pop</b> - pops last item off list and returns item."
   ]
  },
  {
   "cell_type": "code",
   "execution_count": 317,
   "id": "8b04f852",
   "metadata": {},
   "outputs": [
    {
     "name": "stdout",
     "output_type": "stream",
     "text": [
      "[5, 3, 8]\n",
      "8\n"
     ]
    }
   ],
   "source": [
    "x = [5, 3, 8, 6]\n",
    "x.pop()      # pop off the 6\n",
    "print(x)\n",
    "print(x.pop())"
   ]
  },
  {
   "cell_type": "markdown",
   "id": "73c15094",
   "metadata": {},
   "source": [
    "<b>remove</b> - remove first instance of an item"
   ]
  },
  {
   "cell_type": "code",
   "execution_count": 318,
   "id": "2a269584",
   "metadata": {},
   "outputs": [
    {
     "name": "stdout",
     "output_type": "stream",
     "text": [
      "[5, 8, 6, 3]\n"
     ]
    }
   ],
   "source": [
    "x = [5, 3, 8, 6, 3]\n",
    "x.remove(3)\n",
    "print(x)"
   ]
  },
  {
   "cell_type": "markdown",
   "id": "d84ecc86",
   "metadata": {},
   "source": [
    "<b>reverse</b> - reverse the order of the list. It is an in-place sort, meaning it changes the original list."
   ]
  },
  {
   "cell_type": "code",
   "execution_count": 319,
   "id": "51e53575",
   "metadata": {},
   "outputs": [
    {
     "name": "stdout",
     "output_type": "stream",
     "text": [
      "[6, 8, 3, 5]\n"
     ]
    }
   ],
   "source": [
    "x = [5, 3, 8, 6]\n",
    "x.reverse()\n",
    "print(x)"
   ]
  },
  {
   "cell_type": "markdown",
   "id": "e5c11dd5",
   "metadata": {},
   "source": [
    "<b>sort</b> - sort the list in place. <br>\n",
    "Note: <br>\n",
    "sorted(x) returns a new sorted list without changing the original list x. <br>\n",
    "x.sort() puts the items of x in sorted order (sorts in place)"
   ]
  },
  {
   "cell_type": "code",
   "execution_count": 320,
   "id": "94ab99df",
   "metadata": {},
   "outputs": [
    {
     "name": "stdout",
     "output_type": "stream",
     "text": [
      "[3, 5, 6, 8]\n"
     ]
    }
   ],
   "source": [
    "x = [5, 3, 8, 6]\n",
    "x.sort()\n",
    "print(x)"
   ]
  },
  {
   "cell_type": "markdown",
   "id": "1b8b0a2b",
   "metadata": {},
   "source": [
    "<b>reverse sort</b> - sort items descending.<br>\n",
    "Use reverse=*True* parameter to the sort function."
   ]
  },
  {
   "cell_type": "code",
   "execution_count": 321,
   "id": "81e68061",
   "metadata": {},
   "outputs": [
    {
     "name": "stdout",
     "output_type": "stream",
     "text": [
      "[8, 6, 5, 3]\n"
     ]
    }
   ],
   "source": [
    "x = [5, 3, 8, 6]\n",
    "x.sort(reverse=True)\n",
    "print(x)"
   ]
  },
  {
   "cell_type": "markdown",
   "id": "91885d93",
   "metadata": {},
   "source": [
    "## Tuples"
   ]
  },
  {
   "cell_type": "markdown",
   "id": "f39de350",
   "metadata": {},
   "source": [
    "---\n",
    "* Immutable (can't add/change)\n",
    "* Useful for fixed data\n",
    "* Faster than Lists\n",
    "* Sequence type"
   ]
  },
  {
   "cell_type": "markdown",
   "id": "6d11eb29",
   "metadata": {},
   "source": [
    "<b>constructors</b> - creating new tuples."
   ]
  },
  {
   "cell_type": "code",
   "execution_count": 322,
   "id": "b1512929",
   "metadata": {},
   "outputs": [
    {
     "name": "stdout",
     "output_type": "stream",
     "text": [
      "(2,) <class 'tuple'>\n",
      "(2, 4, 6) <class 'tuple'>\n"
     ]
    }
   ],
   "source": [
    "x = ()\n",
    "x = (1, 2, 3)\n",
    "x = 1, 2, 3\n",
    "x = 2,  #the comma tells Python it's a tuple\n",
    "print(x, type(x))\n",
    "\n",
    "list1 = [2, 4, 6]\n",
    "x = tuple(list1)\n",
    "print(x, type(x))"
   ]
  },
  {
   "cell_type": "markdown",
   "id": "e59fa62d",
   "metadata": {},
   "source": [
    "<b>tuples are immutable</b>, but member objects may be mutable."
   ]
  },
  {
   "cell_type": "code",
   "execution_count": 323,
   "id": "bc0489c8",
   "metadata": {},
   "outputs": [
    {
     "name": "stdout",
     "output_type": "stream",
     "text": [
      "(1, 2, 3)\n",
      "([1], 3)\n",
      "([1], 3, 4)\n"
     ]
    }
   ],
   "source": [
    "x = (1, 2, 3)\n",
    "# del(x[1])       # fails\n",
    "# x[1] = 8        # fails\n",
    "print(x)\n",
    "\n",
    "y = ([1, 2], 3)   # a tuple where the first item is a list\n",
    "del(y[0][1])      # delete the 2\n",
    "print(y)          # the list withen the tuple is mutable\n",
    "\n",
    "y += (4,)         # concatenating two tuples works\n",
    "print(y)"
   ]
  },
  {
   "cell_type": "markdown",
   "id": "f6c6c792",
   "metadata": {},
   "source": [
    "## Sets"
   ]
  },
  {
   "cell_type": "markdown",
   "id": "c68607c2",
   "metadata": {},
   "source": [
    "---\n",
    "* Store non-duplicate items\n",
    "* Very fasst access vs Lists\n",
    "* Math Set ops(union, intersect)\n",
    "* Sets are Unordered"
   ]
  },
  {
   "cell_type": "markdown",
   "id": "de2506b1",
   "metadata": {},
   "source": [
    "<b>constructors</b> - creating new sets."
   ]
  },
  {
   "cell_type": "code",
   "execution_count": 324,
   "id": "4e2e4690",
   "metadata": {},
   "outputs": [
    {
     "name": "stdout",
     "output_type": "stream",
     "text": [
      "{3, 5}\n",
      "set()\n",
      "{2, 3, 4}\n"
     ]
    }
   ],
   "source": [
    "x = {3, 5, 3, 5}\n",
    "print(x)\n",
    "\n",
    "y = set()\n",
    "print(y)\n",
    "\n",
    "list1 = [2, 3, 4]\n",
    "z = set(list1)\n",
    "print(z)"
   ]
  },
  {
   "cell_type": "markdown",
   "id": "a85e5370",
   "metadata": {},
   "source": [
    "<b>set operations</b>"
   ]
  },
  {
   "cell_type": "code",
   "execution_count": 325,
   "id": "bd6bf5e5",
   "metadata": {},
   "outputs": [
    {
     "name": "stdout",
     "output_type": "stream",
     "text": [
      "{8, 3, 5}\n",
      "{8, 3, 5, 7}\n",
      "{8, 5, 7}\n",
      "3\n",
      "True\n",
      "8 {5, 7}\n",
      "set()\n"
     ]
    }
   ],
   "source": [
    "x = {3, 8, 5}\n",
    "print(x)\n",
    "x.add(7)\n",
    "print(x)\n",
    "\n",
    "x.remove(3)\n",
    "print(x)\n",
    "\n",
    "# get length of set x\n",
    "print(len(x))\n",
    "\n",
    "# check membership in x\n",
    "print(5 in x)\n",
    "\n",
    "# pop random item from set x\n",
    "print(x.pop(), x)\n",
    "\n",
    "# delete all items from set x\n",
    "x.clear()\n",
    "print(x)"
   ]
  },
  {
   "cell_type": "markdown",
   "id": "e28733e8",
   "metadata": {},
   "source": [
    "<b>Mathematical set operations</b> <br>\n",
    "intersection (AND): set1 & set2 <br>\n",
    "union (OR): set1 | set1 <br>\n",
    "symmetric difference (XOR): set1 ^ set2 difference (in set1 but not set2): set1 - set2 <br>\n",
    "subset (set2 contains set1): set1 <= set2 <br>\n",
    "superset (set1 contains set2): set1 >= set2"
   ]
  },
  {
   "cell_type": "code",
   "execution_count": 326,
   "id": "ccb80eda",
   "metadata": {},
   "outputs": [
    {
     "name": "stdout",
     "output_type": "stream",
     "text": [
      "{3}\n",
      "{1, 2, 3, 4, 5}\n",
      "{1, 2, 4, 5}\n",
      "{1, 2}\n",
      "False\n",
      "False\n"
     ]
    }
   ],
   "source": [
    "s1 = {1, 2, 3}\n",
    "s2 = {3, 4, 5}\n",
    "print(s1 & s2)\n",
    "print(s1 | s2)\n",
    "print(s1 ^ s2)\n",
    "print(s1 - s2)\n",
    "print(s1 <= s2)\n",
    "print(s1 >= s2)"
   ]
  },
  {
   "cell_type": "markdown",
   "id": "4c760df0",
   "metadata": {},
   "source": [
    "## Dictionaries (dict)"
   ]
  },
  {
   "cell_type": "markdown",
   "id": "26dd533a",
   "metadata": {},
   "source": [
    "---\n",
    "* Key/Value pairs\n",
    "* Associative array, like Java HashMap\n",
    "* Dicts are Unordered"
   ]
  },
  {
   "cell_type": "code",
   "execution_count": 327,
   "id": "af8dbc00",
   "metadata": {},
   "outputs": [
    {
     "name": "stdout",
     "output_type": "stream",
     "text": [
      "{'pork': 25.3, 'beef': 33.8, 'chicken': 22.7}\n",
      "{'pork': 25.3, 'beef': 33.8, 'chicken': 22.7}\n",
      "{'pork': 25.3, 'beef': 33.8, 'chicken': 22.7}\n"
     ]
    }
   ],
   "source": [
    "x = {'pork':25.3, 'beef':33.8, 'chicken':22.7}\n",
    "print(x)\n",
    "x = dict([('pork', 25.3), ('beef', 33.8), ('chicken', 22.7)])\n",
    "print(x)\n",
    "x = dict(pork=25.3, beef=33.8, chicken=22.7)\n",
    "print(x)"
   ]
  },
  {
   "cell_type": "markdown",
   "id": "f4dfb522",
   "metadata": {},
   "source": [
    "<b>dict operations</b>"
   ]
  },
  {
   "cell_type": "code",
   "execution_count": 328,
   "id": "19f7037a",
   "metadata": {},
   "outputs": [
    {
     "name": "stdout",
     "output_type": "stream",
     "text": [
      "{'pork': 25.3, 'beef': 33.8, 'chicken': 22.7, 'shrimp': 38.2}\n",
      "{'pork': 25.3, 'beef': 33.8, 'chicken': 22.7}\n",
      "3\n",
      "{}\n"
     ]
    }
   ],
   "source": [
    "x['shrimp'] = 38.2      # add or update\n",
    "print(x)\n",
    "\n",
    "# delete an item\n",
    "del(x['shrimp'])\n",
    "print(x)\n",
    "\n",
    "# get length of dict x\n",
    "print(len(x))\n",
    "\n",
    "# delete all items for dict x\n",
    "x.clear()\n",
    "print(x)\n",
    "\n",
    "# delete dict x\n",
    "del(x)"
   ]
  },
  {
   "cell_type": "markdown",
   "id": "379d3a12",
   "metadata": {},
   "source": [
    "<b>accessing keys and values in a dict</b> <br>"
   ]
  },
  {
   "cell_type": "code",
   "execution_count": 329,
   "id": "ad8c27b2",
   "metadata": {},
   "outputs": [
    {
     "name": "stdout",
     "output_type": "stream",
     "text": [
      "dict_keys(['pork', 'beef', 'chicken'])\n",
      "dict_values([25.3, 33.8, 22.7])\n",
      "dict_items([('pork', 25.3), ('beef', 33.8), ('chicken', 22.7)])\n",
      "True\n",
      "False\n"
     ]
    }
   ],
   "source": [
    "y = {'pork':25.3, 'beef':33.8, 'chicken':22.7}\n",
    "print(y.keys())\n",
    "print(y.values())\n",
    "print(y.items())       # key-value pairs\n",
    "\n",
    "# check membership in y_keys (only look in keys, not values)\n",
    "print('beef' in y)\n",
    "\n",
    "# check membership in y_values\n",
    "print('clams' in y.values())"
   ]
  },
  {
   "cell_type": "markdown",
   "id": "6c9cc762",
   "metadata": {},
   "source": [
    "<b>iterating a dict</b> - note, items are in random order."
   ]
  },
  {
   "cell_type": "code",
   "execution_count": 330,
   "id": "f3b6caf9",
   "metadata": {},
   "outputs": [
    {
     "name": "stdout",
     "output_type": "stream",
     "text": [
      "pork 25.3\n",
      "beef 33.8\n",
      "chicken 22.7\n",
      "pork 25.3\n",
      "beef 33.8\n",
      "chicken 22.7\n"
     ]
    }
   ],
   "source": [
    "for key in y:\n",
    "    print(key, y[key])\n",
    "\n",
    "for k, v in y.items():\n",
    "    print(k, v)"
   ]
  },
  {
   "cell_type": "markdown",
   "id": "0064442e",
   "metadata": {},
   "source": [
    "## Python List Comprehensions"
   ]
  },
  {
   "cell_type": "markdown",
   "id": "eb74c430",
   "metadata": {},
   "source": [
    "basic format: new_list = [transform sequence [filter]]"
   ]
  },
  {
   "cell_type": "code",
   "execution_count": 331,
   "id": "40465962",
   "metadata": {},
   "outputs": [],
   "source": [
    "import random"
   ]
  },
  {
   "cell_type": "markdown",
   "id": "e1048daa",
   "metadata": {},
   "source": [
    "<b>get values withen a range</b>"
   ]
  },
  {
   "cell_type": "code",
   "execution_count": 332,
   "id": "5d152228",
   "metadata": {},
   "outputs": [
    {
     "name": "stdout",
     "output_type": "stream",
     "text": [
      "under_10: [0, 1, 2, 3, 4, 5, 6, 7, 8, 9]\n"
     ]
    }
   ],
   "source": [
    "under_10 = [x for x in range(10)]\n",
    "print('under_10: ' + str(under_10))"
   ]
  },
  {
   "cell_type": "markdown",
   "id": "8548b490",
   "metadata": {},
   "source": [
    "<b>get squared values</b>"
   ]
  },
  {
   "cell_type": "code",
   "execution_count": 333,
   "id": "0c0dc5a3",
   "metadata": {},
   "outputs": [
    {
     "name": "stdout",
     "output_type": "stream",
     "text": [
      "squares: [0, 1, 4, 9, 16, 25, 36, 49, 64, 81]\n"
     ]
    }
   ],
   "source": [
    "squares = [x**2 for x in under_10]\n",
    "print('squares: ' + str(squares))"
   ]
  },
  {
   "cell_type": "markdown",
   "id": "76f56677",
   "metadata": {},
   "source": [
    "<b>get odd numbers using mod</b>"
   ]
  },
  {
   "cell_type": "code",
   "execution_count": 334,
   "id": "db86ca60",
   "metadata": {},
   "outputs": [
    {
     "name": "stdout",
     "output_type": "stream",
     "text": [
      "odds: [1, 3, 5, 7, 9]\n"
     ]
    }
   ],
   "source": [
    "odds = [x for x in range(10) if x%2 == 1]\n",
    "print('odds: ' + str(odds))"
   ]
  },
  {
   "cell_type": "markdown",
   "id": "b6c6253f",
   "metadata": {},
   "source": [
    "<b>get multiples of 10</b>"
   ]
  },
  {
   "cell_type": "code",
   "execution_count": 335,
   "id": "bbb4c697",
   "metadata": {},
   "outputs": [
    {
     "name": "stdout",
     "output_type": "stream",
     "text": [
      "ten_x: [0, 10, 20, 30, 40, 50, 60, 70, 80, 90]\n"
     ]
    }
   ],
   "source": [
    "ten_x = [x * 10 for x in range(10)]\n",
    "print('ten_x: ' + str(ten_x))"
   ]
  },
  {
   "cell_type": "markdown",
   "id": "c4e01508",
   "metadata": {},
   "source": [
    "<b>get all numbers from a string</b>"
   ]
  },
  {
   "cell_type": "code",
   "execution_count": 336,
   "id": "ee36effc",
   "metadata": {},
   "outputs": [
    {
     "name": "stdout",
     "output_type": "stream",
     "text": [
      "nums: 2073\n"
     ]
    }
   ],
   "source": [
    "s = 'I love 2 go t0 the store 7 times a w3ek.'\n",
    "nums = [x for x in s if x.isnumeric()]\n",
    "print('nums: ' + ''.join(nums))"
   ]
  },
  {
   "cell_type": "markdown",
   "id": "89c5cd67",
   "metadata": {},
   "source": [
    "<b>get index of a list item</b>"
   ]
  },
  {
   "cell_type": "code",
   "execution_count": 337,
   "id": "0d28d366",
   "metadata": {},
   "outputs": [
    {
     "name": "stdout",
     "output_type": "stream",
     "text": [
      "index = 2\n"
     ]
    }
   ],
   "source": [
    "names = ['Cosmo', 'Pedro', 'Anu', 'Ray']\n",
    "idx = [k for k, v in enumerate(names) if v == 'Anu']\n",
    "print('index = ' + str(idx[0]))"
   ]
  },
  {
   "cell_type": "markdown",
   "id": "84370395",
   "metadata": {},
   "source": [
    "<b>delete an item from a list</b>"
   ]
  },
  {
   "cell_type": "code",
   "execution_count": 338,
   "id": "45fc0a43",
   "metadata": {},
   "outputs": [
    {
     "name": "stdout",
     "output_type": "stream",
     "text": [
      "['E', 'F', 'B', 'C', 'D', 'A'] ['E', 'F', 'B', 'D', 'A']\n"
     ]
    }
   ],
   "source": [
    "letters = [x for x in 'ABCDEF']\n",
    "random.shuffle(letters)\n",
    "letrs = [a for a in letters if a != 'C']\n",
    "print(letters, letrs)"
   ]
  },
  {
   "cell_type": "markdown",
   "id": "7d164d74",
   "metadata": {},
   "source": [
    "<b>if-else condition in a comprehension</b> <br>\n",
    "must come before iteration"
   ]
  },
  {
   "cell_type": "code",
   "execution_count": 339,
   "id": "42d0d4db",
   "metadata": {},
   "outputs": [
    {
     "name": "stdout",
     "output_type": "stream",
     "text": [
      "new_list: [50, 30, 10, 18, 6, 70]\n"
     ]
    }
   ],
   "source": [
    "nums = [5, 3, 10, 18, 6, 7]\n",
    "new_list = [x if x%2 == 0 else 10*x for x in nums]\n",
    "print('new_list: ' + str(new_list))"
   ]
  },
  {
   "cell_type": "markdown",
   "id": "b894b8a4",
   "metadata": {},
   "source": [
    "# Stacks, Queues & Heaps"
   ]
  },
  {
   "cell_type": "markdown",
   "id": "270b6b7b",
   "metadata": {},
   "source": [
    "## Stack using Python List"
   ]
  },
  {
   "cell_type": "markdown",
   "id": "f832c3b5",
   "metadata": {},
   "source": [
    "Stack is a LIFO data structure -- last-in, first-out. <br>\n",
    "Use append() to push an item onto a stack. <br>\n",
    "Use pop() to remove an item."
   ]
  },
  {
   "cell_type": "code",
   "execution_count": 340,
   "id": "0cd2ccb1",
   "metadata": {},
   "outputs": [
    {
     "name": "stdout",
     "output_type": "stream",
     "text": [
      "[4, 7, 12, 19]\n"
     ]
    }
   ],
   "source": [
    "my_stack = list()\n",
    "my_stack.append(4)\n",
    "my_stack.append(7)\n",
    "my_stack.append(12)\n",
    "my_stack.append(19)\n",
    "print(my_stack)"
   ]
  },
  {
   "cell_type": "code",
   "execution_count": 341,
   "id": "27daf641",
   "metadata": {},
   "outputs": [
    {
     "name": "stdout",
     "output_type": "stream",
     "text": [
      "19\n",
      "12\n",
      "[4, 7]\n"
     ]
    }
   ],
   "source": [
    "print(my_stack.pop())\n",
    "print(my_stack.pop())\n",
    "print(my_stack)"
   ]
  },
  {
   "cell_type": "markdown",
   "id": "4877b9ca",
   "metadata": {},
   "source": [
    "## Stack using List with a Wrapper Class "
   ]
  },
  {
   "cell_type": "markdown",
   "id": "582a0c52",
   "metadata": {},
   "source": [
    "We create a Stack class and a full set of Stack methods.<br>\n",
    "But the underlying data structure is really a Python List. <br>\n",
    "For pop and peek methods we first check whether the stack is empty, to avoid exceptions."
   ]
  },
  {
   "cell_type": "code",
   "execution_count": 342,
   "id": "45917f10",
   "metadata": {},
   "outputs": [],
   "source": [
    "class Stack():\n",
    "    def __init__(self):\n",
    "        self.stack = list()\n",
    "    def push(self, item):\n",
    "        self.stack.append(item)\n",
    "    def pop(self):\n",
    "        if len(self.stack) > 0:\n",
    "            return self.stack.pop()\n",
    "        else:\n",
    "            return None\n",
    "    def peek(self):\n",
    "        if len(self.stack) > 0:\n",
    "            return self.stack[len(self.stack)-1]\n",
    "        else:\n",
    "            return None\n",
    "    def __str__(self):\n",
    "        return str(self.stack)"
   ]
  },
  {
   "cell_type": "markdown",
   "id": "f51e63a7",
   "metadata": {},
   "source": [
    "## Test Code for Stack Wrapper Class"
   ]
  },
  {
   "cell_type": "code",
   "execution_count": 343,
   "id": "8ce1e235",
   "metadata": {},
   "outputs": [
    {
     "name": "stdout",
     "output_type": "stream",
     "text": [
      "[1, 3]\n",
      "3\n",
      "1\n",
      "1\n",
      "None\n"
     ]
    }
   ],
   "source": [
    "my_stack = Stack()\n",
    "my_stack.push(1)\n",
    "my_stack.push(3)\n",
    "print(my_stack)\n",
    "print(my_stack.pop())\n",
    "print(my_stack.peek())\n",
    "print(my_stack.pop())\n",
    "print(my_stack.pop())"
   ]
  },
  {
   "cell_type": "markdown",
   "id": "b42ce3c1",
   "metadata": {},
   "source": [
    "---\n",
    "## Queue using Python Deque"
   ]
  },
  {
   "cell_type": "markdown",
   "id": "112020dd",
   "metadata": {},
   "source": [
    "Queue is a FIFO data structure -- first-in, first-out. \\\n",
    "Deque is a double-ended queue, but we can use it for our queue. \\\n",
    "We use append() to enqueue an item, and popleft() to dequeue an item. "
   ]
  },
  {
   "cell_type": "code",
   "execution_count": 344,
   "id": "ea7272bb",
   "metadata": {},
   "outputs": [
    {
     "name": "stdout",
     "output_type": "stream",
     "text": [
      "deque([5, 10])\n",
      "5\n"
     ]
    }
   ],
   "source": [
    "from collections import deque\n",
    "my_queue = deque()\n",
    "my_queue.append(5)\n",
    "my_queue.append(10)\n",
    "print(my_queue)\n",
    "print(my_queue.popleft())"
   ]
  },
  {
   "cell_type": "markdown",
   "id": "4fb85e0d",
   "metadata": {},
   "source": [
    "## Fun Exercise: \n",
    "Write a wrapper class for the Queue class, similar to what we did for Stack deque. \\\n",
    "Try adding enqueue, dequeue, and get_size methods.\n"
   ]
  },
  {
   "cell_type": "markdown",
   "id": "a3645a69",
   "metadata": {},
   "source": [
    "## Python Maxheap\n",
    "A MaxHeap always bubbles the highest value to th etop, so it can be removed instantly. \\\n",
    "Public functions: push, peek, pop\n",
    "Private functions: **swap, _flotUp, _bubbleDown, _str.**"
   ]
  },
  {
   "cell_type": "code",
   "execution_count": 345,
   "id": "09f85988",
   "metadata": {},
   "outputs": [],
   "source": [
    "class MaxHeap:\n",
    "    def __init__(self, items=[]):\n",
    "        super().__init__()\n",
    "        self.heap = [0]\n",
    "        for item in items:\n",
    "            self.heap.append(item)\n",
    "            self.__floatUp(len(self.heap) - 1)\n",
    "    \n",
    "    def push(self, data):\n",
    "        self.heap.append(data)\n",
    "        self.__floatUp(len(self.heap) - 1)\n",
    "        \n",
    "    def peek(self):\n",
    "        if self.heap[1]:\n",
    "            return self.heap[1]\n",
    "        else:\n",
    "            return False\n",
    "        \n",
    "    def pop(self):\n",
    "        if len(self.heap) > 2:\n",
    "            self.__swap(1, len(self.heap) - 1)\n",
    "            max = self.heap.pop()\n",
    "            self.__bubbleDown(1)\n",
    "        elif len(self.heap) == 2:\n",
    "            max = self.heap.pop()\n",
    "        else:\n",
    "            max = False\n",
    "        return max\n",
    "    \n",
    "    def __swap(self, i, j):\n",
    "        self.heap[i], self.heap[j] = self.heap[j], self.heap[i]\n",
    "        \n",
    "    def __floatUp(self, index):\n",
    "        parent = index//2\n",
    "        if index <= 1:\n",
    "            return\n",
    "        elif self.heap[index] > self.heap[parent]:\n",
    "            self.__swap(index, parent)\n",
    "            self.__floatUp(parent)\n",
    "            \n",
    "    def __bubbleDown(self, index):\n",
    "        left = index * 2\n",
    "        right = index * 2 + 1\n",
    "        largest = index\n",
    "        if len(self.heap) > left and self.heap[largest] < self.heap[left]:\n",
    "               largest = left\n",
    "        if len(self.heap) > right and self.heap[largest] < self.heap[right]:\n",
    "            largest = right\n",
    "        if largest != index:\n",
    "            self.__swap(index, largest)\n",
    "            self.__bubbleDown(largest)\n",
    "    \n",
    "    def __str__(self):\n",
    "        return str(self.heap)"
   ]
  },
  {
   "cell_type": "markdown",
   "id": "9228f0ad",
   "metadata": {},
   "source": [
    "## MaxHeap Test Code"
   ]
  },
  {
   "cell_type": "code",
   "execution_count": 346,
   "id": "3f46697e",
   "metadata": {},
   "outputs": [
    {
     "name": "stdout",
     "output_type": "stream",
     "text": [
      "[0, 96, 10, 21, 3]\n",
      "96\n",
      "21\n"
     ]
    }
   ],
   "source": [
    "m = MaxHeap([96, 3, 21])\n",
    "m.push(10)\n",
    "print(m)\n",
    "print(m.pop())\n",
    "print(m.peek())"
   ]
  },
  {
   "cell_type": "markdown",
   "id": "f8ad6001",
   "metadata": {},
   "source": [
    "# Python Linked Lists"
   ]
  },
  {
   "cell_type": "markdown",
   "id": "828f53b4",
   "metadata": {},
   "source": [
    "## Node Class\n",
    "Node class has a constructor that sets the data passed in, and optionally can optionally set the next_node and prev_node. \\\n",
    "It also has a str method to give a string representation for printing. \\\n",
    "Note that prev_node is only used for Doubly Linked Lists."
   ]
  },
  {
   "cell_type": "code",
   "execution_count": 347,
   "id": "99b7a5eb",
   "metadata": {},
   "outputs": [],
   "source": [
    "class Node:\n",
    "    \n",
    "    def __init__ (self, d, n=None, p=None):\n",
    "        self.data = d\n",
    "        self.next_node = n\n",
    "        self.prev_node = p\n",
    "        \n",
    "    def __str__ (self):\n",
    "        return ('(' + str(self.data) + ')')"
   ]
  },
  {
   "cell_type": "markdown",
   "id": "12cf6d2f",
   "metadata": {},
   "source": [
    "## LinkedList Class\n",
    "A LinkedList object has two attributes: a root node that defaults to None, and size that defaults to 0. \n",
    "\n",
    "**Add** method receives a piece of data, creates a new Node, setting the root node as the next node and changes the LL's pointer to the new node, and increments size. \n",
    "\n",
    "**Find** iterates through the nodes until it finds the data passed in. If it finds the data is will return it, otherwise returns None. \n",
    "\n",
    "**Remove** needs pointers to this_node and prev_node. If it finds the data, it needs to check if it is in the root node (prev_node is None) before deciding how to bypass the deleted node.\n",
    "\n",
    "**Print_list** iterates the list and prints each node."
   ]
  },
  {
   "cell_type": "code",
   "execution_count": 348,
   "id": "e0652497",
   "metadata": {},
   "outputs": [],
   "source": [
    "class LinkedList:\n",
    "    \n",
    "    def __init__(self, r = None):\n",
    "        self.root = r\n",
    "        self.size = 0\n",
    "        \n",
    "    def add(self, d):\n",
    "        new_node = Node(d, self.root)\n",
    "        self.root = new_node\n",
    "        self.size += 1\n",
    "        \n",
    "    def find(self, d):\n",
    "        this_node = self.root\n",
    "        while this_node is not None:\n",
    "            if this_node.data == d:\n",
    "                return d\n",
    "            else:\n",
    "                this_node = this_node.next_node\n",
    "        return None\n",
    "    \n",
    "    def remove(self, d):\n",
    "        this_node = self.root\n",
    "        prev_node = None\n",
    "        \n",
    "        while this_node is not None:\n",
    "            if this_node.data == d:\n",
    "                if prev_node is not None:  # data is in non-root\n",
    "                    prev_node.next_node = this_node.next_node\n",
    "                else:  # data is in root node\n",
    "                    self.root = this_node.next_node\n",
    "                self.size -= 1\n",
    "                return True  # data removed\n",
    "            else: \n",
    "                prev_node = this_node\n",
    "                this_node = this_node.next_node\n",
    "            return False  # data not found\n",
    "        \n",
    "    def print_list(self):\n",
    "        this_node = self.root\n",
    "        while this_node is not None:\n",
    "            print(this_node, end='->')\n",
    "            this_node = this_node.next_node\n",
    "        print('None')\n",
    "            \n",
    "        "
   ]
  },
  {
   "cell_type": "markdown",
   "id": "b93d3a58",
   "metadata": {},
   "source": [
    "## Linked List Test Code\n",
    "This test code adds nodes to the LinkedList, Prints the list, prints the size, removes an item, and finds an item."
   ]
  },
  {
   "cell_type": "code",
   "execution_count": 349,
   "id": "a03d142b",
   "metadata": {},
   "outputs": [
    {
     "name": "stdout",
     "output_type": "stream",
     "text": [
      "(12)->(8)->(5)->None\n",
      "size=3\n",
      "size=3\n",
      "5\n",
      "(12)\n"
     ]
    }
   ],
   "source": [
    "myList = LinkedList()\n",
    "myList.add(5)\n",
    "myList.add(8)\n",
    "myList.add(12)\n",
    "myList.print_list()\n",
    "\n",
    "print(\"size=\"+str(myList.size))\n",
    "myList.remove(8)\n",
    "print(\"size=\"+str(myList.size))\n",
    "print(myList.find(5))\n",
    "print(myList.root)"
   ]
  },
  {
   "cell_type": "markdown",
   "id": "7bf0c4d2",
   "metadata": {},
   "source": [
    "## Circular Linked List\n",
    "Includes attributes root and size \\\n",
    "Includes methods add, find, remove, and print_list."
   ]
  },
  {
   "cell_type": "code",
   "execution_count": 350,
   "id": "8baac33e",
   "metadata": {},
   "outputs": [],
   "source": [
    "class CircularLinkedList:\n",
    "    \n",
    "    def __init__(self, r = None):\n",
    "        self.root = r\n",
    "        self. size = 0\n",
    "        \n",
    "    def add (self, d):\n",
    "        if self.size == 0:\n",
    "            self.root = Node(d)\n",
    "            self.root.next_node = self.root\n",
    "        else:\n",
    "            new_node = Node (d, self.root.next_node)\n",
    "            self.root.next_node = new_node\n",
    "        self.size += 1\n",
    "        \n",
    "    def find (self, d):\n",
    "        this_node = self.root\n",
    "        while True:\n",
    "            if this_node.data == d:\n",
    "                return d\n",
    "            elif this_node.next_node == self.root:\n",
    "                return False\n",
    "            this_node = this_node.next_node\n",
    "            \n",
    "    def remove (self, d):\n",
    "        this_node = self.root\n",
    "        prev_node = None\n",
    "        \n",
    "        while True:\n",
    "            if this_node.data == d:  # found\n",
    "                if prev_node is not None:\n",
    "                    prev_node.next_node = this_node.next_node\n",
    "                else: \n",
    "                    while this_node.next_node != self.root:\n",
    "                        this_node = this_node.next_node\n",
    "                    this_node.next_node = self.root.next_node\n",
    "                    self.root = self.root.next_node\n",
    "                self.size -= 1\n",
    "                return True  # data removed\n",
    "            elif this_node.next_node == self.root:\n",
    "                return False # data not found\n",
    "            prev_node = this_node\n",
    "            this_node = this_node.next_node\n",
    "            \n",
    "    def print_list (self):\n",
    "        if self.root is None:\n",
    "            return\n",
    "        this_node = self.root\n",
    "        print (this_node, end='->')\n",
    "        while this_node.next_node != self.root:\n",
    "            this_node = this_node.next_node\n",
    "            print (this_node, end='->')\n",
    "        print()\n",
    "        \n",
    "                        "
   ]
  },
  {
   "cell_type": "markdown",
   "id": "1aeee564",
   "metadata": {},
   "source": [
    "## Circular Linked List Test Code"
   ]
  },
  {
   "cell_type": "code",
   "execution_count": 351,
   "id": "34903d8d",
   "metadata": {},
   "outputs": [
    {
     "name": "stdout",
     "output_type": "stream",
     "text": [
      "size=5\n",
      "8\n",
      "False\n",
      "(5)->(9)->(8)->(3)->(7)->(5)->(9)->(8)->(3)->\n"
     ]
    }
   ],
   "source": [
    "cll = CircularLinkedList()\n",
    "for i in [5, 7, 3, 8, 9]:\n",
    "    cll.add(i)\n",
    "    \n",
    "print(\"size=\"+str(cll.size))\n",
    "print(cll.find(8))\n",
    "print(cll.find(12))\n",
    "\n",
    "my_node = cll.root\n",
    "print (my_node, end='->')\n",
    "for i in range(8):\n",
    "    my_node = my_node.next_node\n",
    "    print (my_node, end='->')\n",
    "print()"
   ]
  },
  {
   "cell_type": "code",
   "execution_count": 352,
   "id": "84350d22",
   "metadata": {},
   "outputs": [
    {
     "name": "stdout",
     "output_type": "stream",
     "text": [
      "(5)->(9)->(8)->(3)->(7)->\n",
      "False\n",
      "size=4\n",
      "(9)->(3)->(7)->\n"
     ]
    }
   ],
   "source": [
    "cll.print_list()\n",
    "cll.remove(8)\n",
    "print(cll.remove(15))\n",
    "print(\"size=\"+str(cll.size))\n",
    "cll.remove(5)  # delete root node\n",
    "cll.print_list()"
   ]
  },
  {
   "cell_type": "markdown",
   "id": "a6bc2810",
   "metadata": {},
   "source": [
    "## Doubly Linked List"
   ]
  },
  {
   "cell_type": "code",
   "execution_count": 353,
   "id": "a88b63e0",
   "metadata": {},
   "outputs": [],
   "source": [
    "class DoublyLinkedList:\n",
    "    \n",
    "    def __init__ (self, r = None):\n",
    "        self.root = r\n",
    "        self.last = r\n",
    "        self.size = 0\n",
    "        \n",
    "    def add (self, d):\n",
    "        if self.size == 0:\n",
    "            self.root = Node(d)\n",
    "            self.last = self.root\n",
    "        else:\n",
    "            new_node = Node(d, self.root)\n",
    "            self.root.prev_node = new_node\n",
    "            self.root = new_node\n",
    "        self.size += 1\n",
    "    \n",
    "    def find (self, d):\n",
    "        this_node = self.root\n",
    "        while this_node is not None:\n",
    "            if this_node.data == d:\n",
    "                return d\n",
    "            elif this_node.next_node == None:\n",
    "                return False\n",
    "            else:\n",
    "                this_node = this_node.next_node\n",
    "                \n",
    "    def remove (self, d):\n",
    "        this_node = self.root\n",
    "        while this_node is not None:\n",
    "            if this_node.data == d:\n",
    "                if this_node.prev_node is not None:\n",
    "                    if this_node.next_node is not None: # delete a middle node\n",
    "                        this_node.prev_node.next_node = this_node.next_node\n",
    "                        this_node.next_node.prev_node = this_node.prev_node\n",
    "                    else: # delete last node\n",
    "                        this_node.prev_node.next_node = None\n",
    "                        self.last = this_node.prev_node\n",
    "                else: # delete root node\n",
    "                    self.root = this_node.next_node\n",
    "                    this_node.next_node.prev_node = self.root\n",
    "                self.size -= 1\n",
    "                return True # data removed\n",
    "            else: \n",
    "                this_node = this_node.next_node\n",
    "        return False # data not found\n",
    "                    \n",
    "    def print_list (self):\n",
    "        if self.root is None:\n",
    "            return\n",
    "        this_node = self.root\n",
    "        print (this_node, end='->')\n",
    "        while this_node.next_node is not None:\n",
    "            this_node = this_node.next_node\n",
    "            print (this_node, end='->')\n",
    "        print()\n",
    "        "
   ]
  },
  {
   "cell_type": "markdown",
   "id": "1bba7dad",
   "metadata": {},
   "source": [
    "## Doubly Linked List Test Code"
   ]
  },
  {
   "cell_type": "code",
   "execution_count": 354,
   "id": "6d8c7e32",
   "metadata": {},
   "outputs": [
    {
     "name": "stdout",
     "output_type": "stream",
     "text": [
      "size=5\n",
      "(9)->(8)->(3)->(9)->(5)->\n",
      "size=4\n"
     ]
    }
   ],
   "source": [
    "dll = DoublyLinkedList()\n",
    "for i in [5, 9, 3, 8, 9]:\n",
    "    dll.add(i)\n",
    "    \n",
    "print(\"size=\"+str(dll.size))\n",
    "dll.print_list()\n",
    "dll.remove(8)\n",
    "print(\"size=\"+str(dll.size))"
   ]
  },
  {
   "cell_type": "code",
   "execution_count": 355,
   "id": "e75b30d5",
   "metadata": {},
   "outputs": [
    {
     "name": "stdout",
     "output_type": "stream",
     "text": [
      "False\n",
      "False\n",
      "(22)->(21)->(9)->(3)->(9)->\n",
      "(3)\n"
     ]
    }
   ],
   "source": [
    "print(dll.remove(15))\n",
    "print(dll.find(15))\n",
    "dll.add(21)\n",
    "dll.add(22)\n",
    "dll.remove(5)\n",
    "dll.print_list()\n",
    "print(dll.last.prev_node)"
   ]
  },
  {
   "cell_type": "markdown",
   "id": "98fa6174",
   "metadata": {},
   "source": [
    "## Binary Search Tree\n",
    "**Constructor** sets three attributes: data, left subtree and right subtree. \\\n",
    "**Insert** inserts a new subtree into the proper location. \\\n",
    "**Find** finds a value. If value not found, return False. \\\n",
    "**Get_size** returns the number of nodes in the tree (excluding None nodes). \\\n",
    "**Preorder** prints a perorder traversal of the tree. \\\n",
    "**Inorder** print an indorder traversal of the tree."
   ]
  },
  {
   "cell_type": "code",
   "execution_count": 356,
   "id": "17a88dd5",
   "metadata": {},
   "outputs": [],
   "source": [
    "class Tree:\n",
    "    def __init__(self, data, left=None, right=None):\n",
    "        self.data = data\n",
    "        self.left = left\n",
    "        self.right = right\n",
    "    def insert(self, data):\n",
    "        if self.data == data:\n",
    "            return False # duplicate value\n",
    "        elif self.data > data:\n",
    "            if self.left is not None:\n",
    "                return self.left.insert(data)\n",
    "            else:\n",
    "                self.left = Tree(data)\n",
    "                return True\n",
    "        else: \n",
    "            if self.right is not None:\n",
    "                return self.right.insert(data)\n",
    "            else:\n",
    "                self.right = Tree(data)\n",
    "                return True\n",
    "    def find(self, data):\n",
    "        if self.data == data:\n",
    "            return data\n",
    "        elif self.data > data:\n",
    "            if self.left is None:\n",
    "                return False\n",
    "            else: \n",
    "                return self.left.find(data)\n",
    "        elif self.data < data:\n",
    "            if self.right is None:\n",
    "                return False\n",
    "            else:\n",
    "                return self.right.find(data)\n",
    "    def get_size(self):\n",
    "        if self.left is not None and self.right is not None:\n",
    "            return 1 + self.left.get_size() + self.right.get_size()\n",
    "        elif self.left:\n",
    "            return 1 + self.left.get_size()\n",
    "        elif self.right:\n",
    "            return 1 + self.right.get_size()\n",
    "        else:\n",
    "            return 1\n",
    "    def preorder(self):\n",
    "        if self is not None:\n",
    "            print (self.data, end=' ')\n",
    "            if self.left is not None:\n",
    "                self.left.preorder()\n",
    "            if self.right:\n",
    "                self.right.preorder()\n",
    "    def inorder(self):\n",
    "        if self is not None:\n",
    "            if self.left is not None:\n",
    "                self.left.inorder()\n",
    "            print (self.data, end=' ')\n",
    "            if self.right is not None:\n",
    "                self.right.inorder()\n",
    "        \n",
    "        "
   ]
  },
  {
   "cell_type": "markdown",
   "id": "06acc29c",
   "metadata": {},
   "source": [
    "## Test Code\n",
    "\n",
    "We create a new tree, insert one value, insert a whole list of values, find all values for 1 to 15 (False for 0, 5 and 8 shows that those values ar enot in the tree), print the size of the tree, print preorder and postorder traversals."
   ]
  },
  {
   "cell_type": "code",
   "execution_count": 357,
   "id": "07e4c70b",
   "metadata": {},
   "outputs": [
    {
     "name": "stdout",
     "output_type": "stream",
     "text": [
      "False 1 2 3 4 False 6 7 False 9 10 11 12 13 14 15 \n",
      " 13\n",
      "7 2 1 3 6 4 9 15 10 12 11 13 14 \n",
      "1 2 3 4 6 7 9 10 11 12 13 14 15 \n"
     ]
    }
   ],
   "source": [
    "tree = Tree(7)\n",
    "tree.insert(9)\n",
    "for i in [15, 10, 2, 12, 3, 1, 13, 6, 11, 4, 14, 9]:\n",
    "    tree.insert(i)\n",
    "for i in range(16):\n",
    "    print(tree.find(i), end=' ')\n",
    "print('\\n', tree.get_size())\n",
    "\n",
    "tree.preorder()\n",
    "print()\n",
    "tree.inorder()\n",
    "print()"
   ]
  },
  {
   "cell_type": "markdown",
   "id": "bddd26e9",
   "metadata": {},
   "source": [
    "## Vertex Class\n",
    "\n",
    "The Vertex class has a constructor that sets the name of the vertex (in our example, just a letter), and creates a new empty set to store neightbors.\n",
    "\n",
    "The add_neighbor method adds the name of a neighboring vertex to the neighbors set. This set automatically eliminates duplicates."
   ]
  },
  {
   "cell_type": "code",
   "execution_count": 358,
   "id": "800e7f4e",
   "metadata": {},
   "outputs": [],
   "source": [
    "class Vertex:\n",
    "    def __init__(self, n):\n",
    "        self.name = n\n",
    "        self.neighbors = set()\n",
    "        \n",
    "    def add_neighbor(self, v):\n",
    "        self.neighbors.add(v)"
   ]
  },
  {
   "cell_type": "markdown",
   "id": "839c32d5",
   "metadata": {},
   "source": [
    "## Graph Class\n",
    "The Graph class uses a dictionary to store vertices in the format, vertex_name:vertex_object.\n",
    "\n",
    "Adding a new vertex to the graph, we first check if the object passed in is a vertex obect, then we check if it already exists in the graph. If both checks pass, then we add the vertex to the graph's vertices dictionary.\n",
    "\n",
    "When adding an edge, we receive two vertex names, we first check if both vertex names are valid, then we add each to the others's neighbors set.\n",
    "\n",
    "To print the graph, we iterate through the vertices, and print each vertex name (the key) followed by its sorted neighbors list."
   ]
  },
  {
   "cell_type": "code",
   "execution_count": 359,
   "id": "2573abde",
   "metadata": {},
   "outputs": [],
   "source": [
    "class Graph:\n",
    "    vertices = {}\n",
    "    \n",
    "    def add_vertex(self, vertex):\n",
    "        if isinstance(vertex, Vertex) and vertex.name not in self.vertices:\n",
    "            self.vertices[vertex.name] = vertex\n",
    "            return True\n",
    "        else:\n",
    "            return False\n",
    "        \n",
    "    def add_edge(self, u, v):\n",
    "        if u in self.vertices and v in self.vertices:\n",
    "            self.vertices[u].add_neighbor(v)\n",
    "            self.vertices[v].add_neighbor(u)\n",
    "            return True\n",
    "        else: \n",
    "            return False\n",
    "        \n",
    "    def print_graph(self):\n",
    "        for key in sorted(list(self.vertices.keys())):\n",
    "            print(key, sorted(list(self.vertices[key].neighbors)))"
   ]
  },
  {
   "cell_type": "markdown",
   "id": "d73f4148",
   "metadata": {},
   "source": [
    "## Test Code\n",
    "\n",
    "Here we create a new Graph object. We create a new vertex named A. We add A to the graph. Then we add new vertex B to the graph. Then we iterate from A to K and add a bunch of vertices to the graph. Since the add_vertex method checks for duplicated, A and B are not add twice."
   ]
  },
  {
   "cell_type": "code",
   "execution_count": 360,
   "id": "cf8d3a89",
   "metadata": {},
   "outputs": [],
   "source": [
    "g = Graph()\n",
    "a = Vertex('A')\n",
    "g.add_vertex(a)\n",
    "g.add_vertex(Vertex('B'))\n",
    "for i in range(ord('A'), ord('K')):\n",
    "    g.add_vertex(Vertex(chr(i)))"
   ]
  },
  {
   "cell_type": "markdown",
   "id": "2620e6fc",
   "metadata": {},
   "source": [
    "An edge consists of two vertex names. Here we iterate through a list of edges and add each to the graph.\n",
    "\n",
    "This print_graph method does'nt give a very good visualization of the graph, but it does show the neighbors for each vertex."
   ]
  },
  {
   "cell_type": "code",
   "execution_count": 361,
   "id": "72e5d9f6",
   "metadata": {},
   "outputs": [
    {
     "name": "stdout",
     "output_type": "stream",
     "text": [
      "A ['B', 'E']\n",
      "B ['A', 'F']\n",
      "C ['G']\n",
      "D ['E', 'H']\n",
      "E ['A', 'D', 'H']\n",
      "F ['B', 'G', 'I', 'J']\n",
      "G ['C', 'F', 'J']\n",
      "H ['D', 'E', 'I']\n",
      "I ['F', 'H']\n",
      "J ['F', 'G']\n"
     ]
    }
   ],
   "source": [
    "edges = ['AB', 'AE', 'BF', 'CG', 'DE', 'DH', 'EH', 'FG', 'FI', 'FJ', 'GJ', 'HI']\n",
    "for edge in edges:\n",
    "    g.add_edge(edge[0], edge[1])\n",
    "    \n",
    "g.print_graph()"
   ]
  },
  {
   "cell_type": "markdown",
   "id": "c0f50db9",
   "metadata": {},
   "source": [
    "# Graph Implementation Using Adjacency Matrix\n",
    "\n",
    "for undirected graph, with weighted or unweighted edges."
   ]
  },
  {
   "cell_type": "markdown",
   "id": "bb140aba",
   "metadata": {},
   "source": [
    "## Vertex Class\n",
    "\n",
    "A vertex object only needs to store its name"
   ]
  },
  {
   "cell_type": "code",
   "execution_count": 362,
   "id": "927f0027",
   "metadata": {},
   "outputs": [],
   "source": [
    "class Vertex:\n",
    "    def __init__(self, n):\n",
    "        self.name = n"
   ]
  },
  {
   "cell_type": "markdown",
   "id": "511dfa0b",
   "metadata": {},
   "source": [
    "## Graph Class\n",
    "\n",
    "A graph has three attributes: \\\n",
    "**vertices** - a dictionary with vertex_name:vertex_object. \\\n",
    "**edges** - a 2-dimensional list (ie. a matrix) of edges. for an unweighted graph it will contain 0 for no edge and 1 for edge. \\\n",
    "**edge_indices** - a dictionary with vertex_name:list_index (eg. A:0) to access edges. \\\n",
    "add_vertex updates all thee of these attributes. \\\n",
    "add_edge only needs to update the edges matrix."
   ]
  },
  {
   "cell_type": "code",
   "execution_count": 363,
   "id": "c58ab65f",
   "metadata": {},
   "outputs": [],
   "source": [
    "class Graph:\n",
    "    vertices = {}\n",
    "    edges = []\n",
    "    edge_indices = {}\n",
    "    \n",
    "    def add_vertex(self, vertex):\n",
    "        if isinstance(vertex, Vertex) and vertex.name not in self.vertices:\n",
    "            self.vertices[vertex.name] = vertex\n",
    "            # for loop appends a column of zeros to the edges matrix\n",
    "            for row in self.edges:\n",
    "                row.append(0)\n",
    "            # append a row of zeros to the bottom of the edges matrix\n",
    "            self.edges.append([0] * (len(self.edges)+1))\n",
    "            self.edge_indices[vertex.name] = len(self.edge_indices)\n",
    "            return True\n",
    "        else:\n",
    "            return False\n",
    "        \n",
    "    def add_edge(self, u, v, weight=1):\n",
    "        if u in self.vertices and v in self.vertices:\n",
    "            self.edges[self.edge_indices[u]][self.edge_indices[v]] = weight\n",
    "            self.edges[self.edge_indices[v]][self.edge_indices[u]] = weight\n",
    "            return True\n",
    "        else:\n",
    "            return False\n",
    "        \n",
    "    def print_graph(self):\n",
    "        for v, i in sorted(self.edge_indices.items()):\n",
    "            print(v + ' ', end='')\n",
    "            for j in range(len(self.edges)):\n",
    "                print(self.edges[i][j], end=' ')\n",
    "            print(' ')"
   ]
  },
  {
   "cell_type": "markdown",
   "id": "f3e48e54",
   "metadata": {},
   "source": [
    "## Test Code\n",
    "\n",
    "Here we create a new Graph object. We create a new vertex named A. We add A to the graph. Then we add new vertex B to the graph. Then we iterate from A to K and add a bunch of vertices to the graph. Since the add_vertex method checks for duplicates, A and B are not added twice. This is exactly the same test code we used for the graph and adjacency lists.\n"
   ]
  },
  {
   "cell_type": "code",
   "execution_count": 364,
   "id": "1dcc7038",
   "metadata": {},
   "outputs": [],
   "source": [
    "g = Graph()\n",
    "a = Vertex('A')\n",
    "g.add_vertex(a)\n",
    "g.add_vertex(Vertex('B'))\n",
    "for i in range(ord('A'), ord('K')):\n",
    "    g.add_vertex(Vertex(chr(i)))"
   ]
  },
  {
   "cell_type": "markdown",
   "id": "e1be3013",
   "metadata": {},
   "source": [
    "An edge consists of two vertex names. Here we iterate through a list of edges and add each to the graph. \n",
    "\n",
    "This print_graph method does'nt give a very good visualization of the graph, but it does show the adjacency matrix so we can see each vertex's neighbors."
   ]
  },
  {
   "cell_type": "code",
   "execution_count": 365,
   "id": "2a2caf3f",
   "metadata": {},
   "outputs": [
    {
     "name": "stdout",
     "output_type": "stream",
     "text": [
      "A 0 1 0 0 1 0 0 0 0 0  \n",
      "B 1 0 0 0 0 1 0 0 0 0  \n",
      "C 0 0 0 0 0 0 1 0 0 0  \n",
      "D 0 0 0 0 1 0 0 1 0 0  \n",
      "E 1 0 0 1 0 0 0 1 0 0  \n",
      "F 0 1 0 0 0 0 1 0 1 1  \n",
      "G 0 0 1 0 0 1 0 0 0 1  \n",
      "H 0 0 0 1 1 0 0 0 1 0  \n",
      "I 0 0 0 0 0 1 0 1 0 0  \n",
      "J 0 0 0 0 0 1 1 0 0 0  \n"
     ]
    }
   ],
   "source": [
    "edges = ['AB', 'AE', 'BF', 'CG', 'DE', 'DH', 'EH', 'FG', 'FI', 'FJ', 'GJ', 'HI']\n",
    "for edge in edges:\n",
    "    g.add_edge(edge[0], edge[1])\n",
    "    \n",
    "g.print_graph()"
   ]
  },
  {
   "cell_type": "code",
   "execution_count": null,
   "id": "397ec5ca",
   "metadata": {},
   "outputs": [],
   "source": []
  }
 ],
 "metadata": {
  "kernelspec": {
   "display_name": "Python 3",
   "language": "python",
   "name": "python3"
  },
  "language_info": {
   "codemirror_mode": {
    "name": "ipython",
    "version": 3
   },
   "file_extension": ".py",
   "mimetype": "text/x-python",
   "name": "python",
   "nbconvert_exporter": "python",
   "pygments_lexer": "ipython3",
   "version": "3.8.8"
  }
 },
 "nbformat": 4,
 "nbformat_minor": 5
}
